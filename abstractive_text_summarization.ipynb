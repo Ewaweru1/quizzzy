{
  "nbformat": 4,
  "nbformat_minor": 0,
  "metadata": {
    "colab": {
      "name": "abstractive-text-summarization.ipynb",
      "provenance": [],
      "authorship_tag": "ABX9TyPJIRcft5MuqY0EDzCV++K7",
      "include_colab_link": true
    },
    "kernelspec": {
      "name": "python3",
      "display_name": "Python 3"
    },
    "language_info": {
      "name": "python"
    }
  },
  "cells": [
    {
      "cell_type": "markdown",
      "metadata": {
        "id": "view-in-github",
        "colab_type": "text"
      },
      "source": [
        "<a href=\"https://colab.research.google.com/github/Karthick47v2/mcq-generator/blob/base-dev/abstractive_text_summarization.ipynb\" target=\"_parent\"><img src=\"https://colab.research.google.com/assets/colab-badge.svg\" alt=\"Open In Colab\"/></a>"
      ]
    },
    {
      "cell_type": "code",
      "execution_count": null,
      "metadata": {
        "id": "RZ71-vZKkARx"
      },
      "outputs": [],
      "source": [
        "# https://turbolab.in/abstractive-summarization-using-googles-t5/"
      ]
    },
    {
      "cell_type": "code",
      "source": [
        "!pip3 install transformers\n",
        "!pip3 install SentencePiece"
      ],
      "metadata": {
        "id": "Mc2Cy2Kskuzx"
      },
      "execution_count": null,
      "outputs": []
    },
    {
      "cell_type": "code",
      "source": [
        "from transformers import T5Tokenizer, T5ForConditionalGeneration"
      ],
      "metadata": {
        "id": "-vZ_gitSlVZF"
      },
      "execution_count": 2,
      "outputs": []
    },
    {
      "cell_type": "code",
      "source": [
        "T5_MODEL_PATH = 't5-base'\n",
        "\n",
        "model = T5ForConditionalGeneration.from_pretrained(T5_MODEL_PATH)\n",
        "tokenizer = T5Tokenizer.from_pretrained(T5_MODEL_PATH)"
      ],
      "metadata": {
        "id": "tebXlRqplpMV"
      },
      "execution_count": null,
      "outputs": []
    },
    {
      "cell_type": "code",
      "source": [
        "def preprocess(text):\n",
        "  return text.strip().replace(\"\\n\",\"\")\n",
        "\n",
        "def summarize(text):\n",
        "  text = preprocess(text)\n",
        "\n",
        "  input_tokens = tokenizer.encode(\"summarize: \" + text, return_tensors='pt', max_length= 1000, padding='max_length', truncation=True)\n",
        "\n",
        "  summary_encoded = model.generate(input_tokens, \n",
        "                                 num_beams=3,\n",
        "                                 no_repeat_ngram_size=3, \n",
        "                                 length_penalty=2.0, \n",
        "                                 min_length=50, \n",
        "                                 max_length=512, \n",
        "                                 early_stopping=True)\n",
        "\n",
        "  output = tokenizer.decode(summary_encoded[0], skip_special_tokens=True, clean_up_tokenization_spaces=True)\n",
        "  return output"
      ],
      "metadata": {
        "id": "8LCkFuQeiBSq"
      },
      "execution_count": 4,
      "outputs": []
    },
    {
      "cell_type": "code",
      "source": [
        "text = '''\n",
        "\n",
        "The US has \"passed the peak\" on new coronavirus cases, President Donald Trump said and predicted that some states would reopen this month. The US has over 637,000 confirmed Covid-19 cases and over 30,826 deaths, the highest for any country in the world. At the daily White House coronavirus briefing on Wednesday, Trump said new guidelines to reopen the country would be announced on Thursday after he speaks to governors. \"We'll be the comeback kids, all of us,\" he said. \"We want to get our country back.\" The Trump administration has previously fixed May 1 as a possible date to reopen the world's largest economy, but the president said some states may be able to return to normalcy earlier than that.\n",
        "\n",
        "'''\n",
        "print(summarize(text))"
      ],
      "metadata": {
        "id": "OhtSNJoYy9r2"
      },
      "execution_count": null,
      "outputs": []
    },
    {
      "cell_type": "code",
      "source": [
        ""
      ],
      "metadata": {
        "id": "RQgX4axezCrT"
      },
      "execution_count": null,
      "outputs": []
    }
  ]
}