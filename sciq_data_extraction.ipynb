{
  "nbformat": 4,
  "nbformat_minor": 0,
  "metadata": {
    "colab": {
      "name": "sciq-data-extraction.ipynb",
      "provenance": [],
      "collapsed_sections": [],
      "authorship_tag": "ABX9TyPBovMLnRT3Cot52Cl9Azio",
      "include_colab_link": true
    },
    "kernelspec": {
      "name": "python3",
      "display_name": "Python 3"
    },
    "language_info": {
      "name": "python"
    }
  },
  "cells": [
    {
      "cell_type": "markdown",
      "metadata": {
        "id": "view-in-github",
        "colab_type": "text"
      },
      "source": [
        "<a href=\"https://colab.research.google.com/github/Karthick47v2/mcq-generator/blob/base-dev/sciq_data_extraction.ipynb\" target=\"_parent\"><img src=\"https://colab.research.google.com/assets/colab-badge.svg\" alt=\"Open In Colab\"/></a>"
      ]
    },
    {
      "cell_type": "code",
      "execution_count": null,
      "metadata": {
        "id": "mzM6nJJ2SlNs"
      },
      "outputs": [],
      "source": [
        "!wget https://ai2-public-datasets.s3.amazonaws.com/sciq/SciQ.zip\n",
        "!unzip SciQ.zip"
      ]
    },
    {
      "cell_type": "code",
      "source": [
        "import json\n",
        "import pandas as pd"
      ],
      "metadata": {
        "id": "JH98ok22SqJD"
      },
      "execution_count": 2,
      "outputs": []
    },
    {
      "cell_type": "code",
      "source": [
        "def parse_json(dataset):\n",
        "  data = {}\n",
        "\n",
        "  with open(f\"SciQ dataset-2 3/{dataset}.json\") as file:\n",
        "    data = json.load(file)\n",
        "\n",
        "  for dict_set in data:\n",
        "    # there might be \"\" string in support --- mentioned in readme.txt\n",
        "    if dict_set['support'] != \"\":\n",
        "      source_text.append(f\"context: {dict_set['support']} answer: {dict_set['correct_answer']}\")\n",
        "      target_text.append(dict_set['question'])\n",
        "  "
      ],
      "metadata": {
        "id": "vtLlfbvoZeWk"
      },
      "execution_count": 39,
      "outputs": []
    },
    {
      "cell_type": "code",
      "source": [
        "source_text = []\n",
        "target_text = []\n",
        "\n",
        "for dataset in ['train', 'test', 'valid']:\n",
        "  parse_json(dataset)"
      ],
      "metadata": {
        "id": "-1V5ujT4ZWS1"
      },
      "execution_count": 40,
      "outputs": []
    },
    {
      "cell_type": "code",
      "source": [
        "df = pd.DataFrame({'source_text': source_text, 'target_text': target_text})"
      ],
      "metadata": {
        "id": "lJErXk4AUzha"
      },
      "execution_count": 43,
      "outputs": []
    },
    {
      "cell_type": "code",
      "source": [
        "df.head()"
      ],
      "metadata": {
        "id": "UrJeMw2QagqW"
      },
      "execution_count": null,
      "outputs": []
    },
    {
      "cell_type": "code",
      "source": [
        "df.to_csv('SciQ-processed.csv', index=False)"
      ],
      "metadata": {
        "id": "3XkSdsSraxN1"
      },
      "execution_count": 46,
      "outputs": []
    },
    {
      "cell_type": "code",
      "source": [
        "from google.colab import drive\n",
        "drive.mount('/content/gdrive')"
      ],
      "metadata": {
        "colab": {
          "base_uri": "https://localhost:8080/"
        },
        "id": "yZRF51fua4bz",
        "outputId": "25514120-1f56-4f63-c939-4a388286677a"
      },
      "execution_count": 45,
      "outputs": [
        {
          "output_type": "stream",
          "name": "stdout",
          "text": [
            "Mounted at /content/gdrive\n"
          ]
        }
      ]
    },
    {
      "cell_type": "code",
      "source": [
        "!mv SciQ-processed.csv gdrive/MyDrive/mcq-gen"
      ],
      "metadata": {
        "id": "utJWbKF5a4z-"
      },
      "execution_count": 49,
      "outputs": []
    }
  ]
}