{
  "nbformat": 4,
  "nbformat_minor": 0,
  "metadata": {
    "colab": {
      "name": "squad-data-extraction.ipynb",
      "provenance": [],
      "authorship_tag": "ABX9TyNMMYzijBRzm9fG3bsat4yz",
      "include_colab_link": true
    },
    "kernelspec": {
      "name": "python3",
      "display_name": "Python 3"
    },
    "language_info": {
      "name": "python"
    }
  },
  "cells": [
    {
      "cell_type": "markdown",
      "metadata": {
        "id": "view-in-github",
        "colab_type": "text"
      },
      "source": [
        "<a href=\"https://colab.research.google.com/github/Karthick47v2/mcq-generator/blob/base-dev/squad_data_extraction.ipynb\" target=\"_parent\"><img src=\"https://colab.research.google.com/assets/colab-badge.svg\" alt=\"Open In Colab\"/></a>"
      ]
    },
    {
      "cell_type": "code",
      "execution_count": null,
      "metadata": {
        "id": "fB30UaQqzMvZ"
      },
      "outputs": [],
      "source": [
        "!wget https://data.deepai.org/squad1.1.zip\n",
        "!unzip squad1.1.zip"
      ]
    },
    {
      "cell_type": "code",
      "source": [
        "import json\n",
        "import pandas as pd"
      ],
      "metadata": {
        "id": "dnArgwcUzUso"
      },
      "execution_count": 2,
      "outputs": []
    },
    {
      "cell_type": "code",
      "source": [
        "data = {}\n",
        "\n",
        "with open('train-v1.1.json') as file:\n",
        "  data = json.load(file)['data']"
      ],
      "metadata": {
        "id": "K7AYMkjpzg71"
      },
      "execution_count": 3,
      "outputs": []
    },
    {
      "cell_type": "code",
      "source": [
        "source_text = []\n",
        "target_text = []"
      ],
      "metadata": {
        "id": "aynz6eeqCErN"
      },
      "execution_count": 4,
      "outputs": []
    },
    {
      "cell_type": "code",
      "source": [
        "for topic in data:\n",
        "  for dict_set in topic['paragraphs']:\n",
        "    for qna_set in dict_set['qas']:\n",
        "      source_text.append(f\"context: {dict_set['context']} answer: {qna_set['answers'][0]['text']}\")\n",
        "      target_text.append(qna_set['question'])"
      ],
      "metadata": {
        "id": "yDIS5Yb2-Sp9"
      },
      "execution_count": 5,
      "outputs": []
    },
    {
      "cell_type": "code",
      "source": [
        "df = pd.DataFrame({'source_text': source_text, 'target_text': target_text})"
      ],
      "metadata": {
        "id": "SCoVslog_T6l"
      },
      "execution_count": 6,
      "outputs": []
    },
    {
      "cell_type": "code",
      "source": [
        "df.head()"
      ],
      "metadata": {
        "id": "g_4zfHZx2O57"
      },
      "execution_count": null,
      "outputs": []
    },
    {
      "cell_type": "code",
      "source": [
        "df.to_csv('SQuAD-processed.csv', index=False)"
      ],
      "metadata": {
        "id": "F7g2Ab4aC9HT"
      },
      "execution_count": 15,
      "outputs": []
    },
    {
      "cell_type": "code",
      "source": [
        "from google.colab import drive\n",
        "drive.mount('/content/gdrive')"
      ],
      "metadata": {
        "colab": {
          "base_uri": "https://localhost:8080/"
        },
        "id": "bMnlCw4DEXMA",
        "outputId": "4f16fdf4-e3e6-4f55-92f3-8a3e0f2e41d7"
      },
      "execution_count": 20,
      "outputs": [
        {
          "output_type": "stream",
          "name": "stdout",
          "text": [
            "Mounted at /content/gdrive\n"
          ]
        }
      ]
    },
    {
      "cell_type": "code",
      "source": [
        "!mv SQuAD-processed.csv gdrive/MyDrive/mcq-gen"
      ],
      "metadata": {
        "id": "as1rlQ0wDjZ3"
      },
      "execution_count": 21,
      "outputs": []
    }
  ]
}