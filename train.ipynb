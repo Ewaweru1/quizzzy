{
  "nbformat": 4,
  "nbformat_minor": 0,
  "metadata": {
    "colab": {
      "name": "train.ipynb",
      "provenance": [],
      "authorship_tag": "ABX9TyMt/X5CjkCXqyzB5MY42szC",
      "include_colab_link": true
    },
    "kernelspec": {
      "name": "python3",
      "display_name": "Python 3"
    },
    "language_info": {
      "name": "python"
    },
    "gpuClass": "standard"
  },
  "cells": [
    {
      "cell_type": "markdown",
      "metadata": {
        "id": "view-in-github",
        "colab_type": "text"
      },
      "source": [
        "<a href=\"https://colab.research.google.com/github/Karthick47v2/mcq-generator/blob/base-dev/train.ipynb\" target=\"_parent\"><img src=\"https://colab.research.google.com/assets/colab-badge.svg\" alt=\"Open In Colab\"/></a>"
      ]
    },
    {
      "cell_type": "code",
      "execution_count": null,
      "metadata": {
        "id": "Wp4gnEtxFNrj"
      },
      "outputs": [],
      "source": [
        "!pip install --upgrade simplet5\n",
        "! pip install fastt5"
      ]
    },
    {
      "cell_type": "code",
      "source": [
        "import pandas as pd\n",
        "from sklearn.model_selection import train_test_split\n",
        "from simplet5 import SimpleT5\n",
        "from fastT5 import generate_onnx_representation, quantize"
      ],
      "metadata": {
        "id": "dvfSgewYFVnw"
      },
      "execution_count": 20,
      "outputs": []
    },
    {
      "cell_type": "code",
      "source": [
        "from google.colab import drive\n",
        "drive.mount('/content/gdrive')"
      ],
      "metadata": {
        "id": "QGNZpeTFFdCd"
      },
      "execution_count": null,
      "outputs": []
    },
    {
      "cell_type": "code",
      "source": [
        "# df = pd.read_csv('gdrive/MyDrive/mcq-gen/SQuAD-processed.csv')\n",
        "df = pd.read_csv('gdrive/MyDrive/mcq-gen/SciQ-processed.csv')"
      ],
      "metadata": {
        "id": "NCre4zazFe_W"
      },
      "execution_count": 3,
      "outputs": []
    },
    {
      "cell_type": "code",
      "source": [
        "df.head()"
      ],
      "metadata": {
        "id": "vvUlIVeMF99l"
      },
      "execution_count": null,
      "outputs": []
    },
    {
      "cell_type": "code",
      "source": [
        "train_df, test_df = train_test_split(df, test_size=0.2)\n",
        "train_df.shape, test_df.shape"
      ],
      "metadata": {
        "id": "xves74CfGAaU"
      },
      "execution_count": null,
      "outputs": []
    },
    {
      "cell_type": "code",
      "source": [
        "model = SimpleT5()\n",
        "model.from_pretrained(model_type='t5', model_name='t5-base')"
      ],
      "metadata": {
        "id": "Z9jSx5cqGK-l"
      },
      "execution_count": 7,
      "outputs": []
    },
    {
      "cell_type": "code",
      "source": [
        "model.train(train_df=train_df[:1000], eval_df=test_df[:200], source_max_token_len=512, target_max_token_len=96, batch_size=8, max_epochs=3, use_gpu=True)"
      ],
      "metadata": {
        "id": "8VAzf5uFIVq3"
      },
      "execution_count": null,
      "outputs": []
    },
    {
      "cell_type": "code",
      "source": [
        "model_dir = 'outputs/xxx'"
      ],
      "metadata": {
        "id": "SgSqRcWFMs2J"
      },
      "execution_count": 22,
      "outputs": []
    },
    {
      "cell_type": "code",
      "source": [
        "model.load_model(model_type='t5', model_dir=model_dir, use_gpu=True)"
      ],
      "metadata": {
        "id": "9Tx7m6aKIiAH"
      },
      "execution_count": 23,
      "outputs": []
    },
    {
      "cell_type": "code",
      "source": [
        "text = \"context: President Donald Trump said and predicted that some states would reopen this month. answer: Donald Trump\"\n",
        "model.predict(source_text=text, num_return_sequences=3, num_beams=5, max_length=72)"
      ],
      "metadata": {
        "id": "la6UGvmgLPsN"
      },
      "execution_count": null,
      "outputs": []
    },
    {
      "cell_type": "code",
      "source": [
        "onnx_model = generate_onnx_representation(pretrained_version=model_dir, input_sequence_length=512)"
      ],
      "metadata": {
        "id": "gUsMWlt2M2Sy"
      },
      "execution_count": null,
      "outputs": []
    },
    {
      "cell_type": "code",
      "source": [
        "quantized_model = quantize(onnx_model)"
      ],
      "metadata": {
        "id": "YYM3j1YjPv9P"
      },
      "execution_count": null,
      "outputs": []
    }
  ]
}