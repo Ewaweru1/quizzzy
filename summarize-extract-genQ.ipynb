{
  "nbformat": 4,
  "nbformat_minor": 0,
  "metadata": {
    "colab": {
      "name": "abstractive-text-summarization.ipynb",
      "provenance": [],
      "authorship_tag": "ABX9TyPy/YL9v611V897z/T0wgRV",
      "include_colab_link": true
    },
    "kernelspec": {
      "name": "python3",
      "display_name": "Python 3"
    },
    "language_info": {
      "name": "python"
    }
  },
  "cells": [
    {
      "cell_type": "markdown",
      "metadata": {
        "id": "view-in-github",
        "colab_type": "text"
      },
      "source": [
        "<a href=\"https://colab.research.google.com/github/Karthick47v2/mcq-generator/blob/main/summarize-extract-genQ.ipynb\" target=\"_parent\"><img src=\"https://colab.research.google.com/assets/colab-badge.svg\" alt=\"Open In Colab\"/></a>"
      ]
    },
    {
      "cell_type": "code",
      "source": [
        "# DONT FORGET TO CHANGE TO CUDA VERSION\n",
        "# !pip3 install torch==1.8.2+cpu torchvision==0.9.2+cpu torchaudio==0.8.2 -f https://download.pytorch.org/whl/lts/1.8/torch_lts.html\n",
        "!pip3 install transformers==4.15.0    # only this ver works with FastT5\n",
        "!pip3 install SentencePiece\n",
        "!pip3 install git+https://github.com/boudinfl/pke.git\n",
        "!pip3 install fastt5\n",
        "!python -m spacy download en_core_web_sm\n",
        "\n",
        "!pip install keybert\n",
        "!pip3 install keyphrase-vectorizers\n",
        "\n"
      ],
      "metadata": {
        "id": "Mc2Cy2Kskuzx"
      },
      "execution_count": null,
      "outputs": []
    },
    {
      "cell_type": "code",
      "source": [
        "import nltk\n",
        "nltk.download('stopwords')\n",
        "from nltk.corpus import stopwords\n",
        "nltk.download('punkt')\n",
        "from nltk.tokenize import sent_tokenize\n",
        "import pke\n",
        "import string\n",
        "import re\n",
        "import numpy as np\n",
        "\n",
        "from keybert import KeyBERT\n",
        "from keyphrase_vectorizers import KeyphraseCountVectorizer"
      ],
      "metadata": {
        "id": "-vZ_gitSlVZF",
        "colab": {
          "base_uri": "https://localhost:8080/"
        },
        "outputId": "a4830f8d-a92f-461f-f54e-7bc119235d96"
      },
      "execution_count": 2,
      "outputs": [
        {
          "output_type": "stream",
          "name": "stdout",
          "text": [
            "[nltk_data] Downloading package stopwords to /root/nltk_data...\n",
            "[nltk_data]   Unzipping corpora/stopwords.zip.\n",
            "[nltk_data] Downloading package brown to /root/nltk_data...\n",
            "[nltk_data]   Unzipping corpora/brown.zip.\n",
            "[nltk_data] Downloading package wordnet to /root/nltk_data...\n",
            "[nltk_data]   Unzipping corpora/wordnet.zip.\n",
            "[nltk_data] Downloading package punkt to /root/nltk_data...\n",
            "[nltk_data]   Unzipping tokenizers/punkt.zip.\n"
          ]
        }
      ]
    },
    {
      "cell_type": "code",
      "source": [
        "from google.colab import drive\n",
        "drive.mount('/content/gdrive')"
      ],
      "metadata": {
        "id": "Fu1t-Zv7TyIi",
        "colab": {
          "base_uri": "https://localhost:8080/"
        },
        "outputId": "bde22c33-33b9-460b-d98c-5fca4caff802"
      },
      "execution_count": 3,
      "outputs": [
        {
          "output_type": "stream",
          "name": "stdout",
          "text": [
            "Mounted at /content/gdrive\n"
          ]
        }
      ]
    },
    {
      "cell_type": "code",
      "source": [
        "# from fastT5 import export_and_get_onnx_model, generate_onnx_representation, quantize\n",
        "# from transformers import T5Config, AutoTokenizer\n",
        "\n",
        "# t = 't5-base'\n",
        "\n",
        "# path = generate_onnx_representation(t)\n",
        "# q_path = quantize(path)\n",
        "# tokenizer_onnx = AutoTokenizer.from_pretrained(t)\n",
        "# conf = T5Config.from_pretrained(t)"
      ],
      "metadata": {
        "id": "AEOKy9guVdqt"
      },
      "execution_count": 4,
      "outputs": []
    },
    {
      "cell_type": "code",
      "source": [
        "# tokenizer_onnx.save_pretrained('models/')\n",
        "# conf.save_pretrained('models/')"
      ],
      "metadata": {
        "id": "3uoPYeIGWKGi"
      },
      "execution_count": 5,
      "outputs": []
    },
    {
      "cell_type": "code",
      "source": [
        "# !cp -r models '/content/gdrive/MyDrive/mcq-gen/t5-summarize'"
      ],
      "metadata": {
        "id": "VS9Itv2zWiaM"
      },
      "execution_count": 6,
      "outputs": []
    },
    {
      "cell_type": "code",
      "source": [
        "from fastT5 import get_onnx_model, get_onnx_runtime_sessions, OnnxT5 \n",
        "from transformers import AutoTokenizer\n",
        "from pathlib import Path\n",
        "import os\n",
        "\n",
        "\n",
        "kw_model = KeyBERT()\n",
        "vectorizer = KeyphraseCountVectorizer()\n",
        "\n",
        "# summarize\n",
        "model_path = '/content/gdrive/MyDrive/mcq-gen/t5-summarize/t5-base'\n",
        "model_name = \"t5-base\"\n",
        "encoder_path = os.path.join(model_path, f\"{model_name}-encoder-quantized.onnx\")\n",
        "decoder_path = os.path.join(model_path, f\"{model_name}-decoder-quantized.onnx\")\n",
        "init_decoder_path = os.path.join(model_path, f\"{model_name}-init-decoder-quantized.onnx\")\n",
        "\n",
        "model_sessions = get_onnx_runtime_sessions((encoder_path,decoder_path,init_decoder_path))\n",
        "sum_model = OnnxT5(model_path, model_sessions)\n",
        "sum_tokenizer = AutoTokenizer.from_pretrained(model_path)\n",
        "\n",
        "# que model\n",
        "model_path = '/content/gdrive/MyDrive/mcq-gen/t5-question'\n",
        "model_name = 't5_squad_v1'\n",
        "encoder_path = os.path.join(model_path, f\"{model_name}-encoder-quantized.onnx\")\n",
        "decoder_path = os.path.join(model_path, f\"{model_name}-decoder-quantized.onnx\")\n",
        "init_decoder_path = os.path.join(model_path, f\"{model_name}-init-decoder-quantized.onnx\")\n",
        "\n",
        "model_sessions = get_onnx_runtime_sessions((encoder_path,decoder_path,init_decoder_path))\n",
        "q_model = OnnxT5(model_path, model_sessions)\n",
        "q_tokenizer = AutoTokenizer.from_pretrained(model_path)"
      ],
      "metadata": {
        "id": "bTpj4BtffXsm"
      },
      "execution_count": 7,
      "outputs": []
    },
    {
      "cell_type": "code",
      "source": [
        "def preprocess_splitted_text(text):\n",
        "  encode = sum_tokenizer.encode_plus(\"summarize: \" + text, return_tensors='pt', pad_to_max_length=False, truncation=True)\n",
        "  return encode[\"input_ids\"], encode[\"attention_mask\"]"
      ],
      "metadata": {
        "id": "bO_R5WSmod0q"
      },
      "execution_count": 8,
      "outputs": []
    },
    {
      "cell_type": "code",
      "source": [
        "def preprocess_bulk_text(text):\n",
        "  text = text.strip()\n",
        "  text = re.sub('[\\u2010-\\u2013]', '-', text)\n",
        "  text = re.sub('[^a-zA-Z0-9\\.,-?%&*()]', ' ', text)\n",
        "  text = re.sub(' {2,}', ' ', text)\n",
        "  return text"
      ],
      "metadata": {
        "id": "3v2ZAekno8bw"
      },
      "execution_count": 9,
      "outputs": []
    },
    {
      "cell_type": "code",
      "source": [
        "def split_text(text, range=300):\n",
        "  bulk_text = preprocess_bulk_text(text)\n",
        "  splitted_texts = []\n",
        "  while(len(bulk_text) > range):\n",
        "    i = range\n",
        "    while((i < len(bulk_text)) and (bulk_text[i] != '.')):\n",
        "      i += 1\n",
        "    splitted_texts.append(bulk_text[:(i+1)])\n",
        "    bulk_text = bulk_text.replace(bulk_text[:(i+1)], \"\")\n",
        "\n",
        "  return splitted_texts"
      ],
      "metadata": {
        "id": "qautz5BgIdL_"
      },
      "execution_count": 25,
      "outputs": []
    },
    {
      "cell_type": "code",
      "source": [
        "def postprocess_summary(text):\n",
        "  output = \"\"\n",
        "\n",
        "  for x in sent_tokenize(text):\n",
        "    x = x.capitalize()\n",
        "    output += \" \" + x\n",
        "\n",
        "  return output"
      ],
      "metadata": {
        "id": "tUkxLqEpxtvz"
      },
      "execution_count": 11,
      "outputs": []
    },
    {
      "cell_type": "code",
      "source": [
        "def summarize(text):\n",
        "  input_tokens_ids, attention_mask = preprocess_splitted_text(text)\n",
        "  summary_encoded = sum_model.generate(input_ids=input_tokens_ids, \n",
        "                                   attention_mask=attention_mask,\n",
        "                                   num_beams=3,\n",
        "                                   num_return_sequences=1,\n",
        "                                   no_repeat_ngram_size=2, \n",
        "                                   max_length=512, \n",
        "                                   early_stopping=True)\n",
        "  \n",
        "\n",
        "  # decode summarized token\n",
        "  output = sum_tokenizer.decode(summary_encoded[0], skip_special_tokens=True, clean_up_tokenization_spaces=True)\n",
        "\n",
        "  return postprocess_summary(output)"
      ],
      "metadata": {
        "id": "8LCkFuQeiBSq"
      },
      "execution_count": 12,
      "outputs": []
    },
    {
      "cell_type": "code",
      "source": [
        "def extract_keywords(text, kw_pop):\n",
        "  # ex = pke.unsupervised.MultipartiteRank()\n",
        "  # ex.load_document(input=text)   \n",
        "\n",
        "  # pos = {'PROPN','NOUN'}\n",
        "  # stoplist = list(string.punctuation) \n",
        "  # stoplist += ['-lrb-', '-rrb-', '-lcb-', '-rcb-', '-lsb-', '-rsb-']\n",
        "  # stoplist += stopwords.words('english')\n",
        "  # ex.candidate_selection(pos=pos)#, stoplist=stoplist)\n",
        "\n",
        "  # ex.candidate_weighting(alpha=1.1, threshold=0.75, method='average')\n",
        "\n",
        "  # kw = ex.get_n_best(n=kw_pop)\n",
        "\n",
        "  kw = kw_model.extract_keywords(text, vectorizer=vectorizer)\n",
        "\n",
        "  kw_ls = []\n",
        "  for i in kw:\n",
        "    kw_ls.append(i[0])\n",
        "\n",
        "  return kw_ls"
      ],
      "metadata": {
        "id": "4UJu2CGRpiBO"
      },
      "execution_count": 48,
      "outputs": []
    },
    {
      "cell_type": "code",
      "source": [
        "def filter_keywords(original, summarized, kw_pop=5):\n",
        "  orig_ls = extract_keywords(original, kw_pop)\n",
        "  sum_ls = extract_keywords(summarized, kw_pop)\n",
        "  orig_ls = set(orig_ls)\n",
        "  return list(orig_ls.intersection(sum_ls))"
      ],
      "metadata": {
        "id": "2vUS8makp5dG"
      },
      "execution_count": 20,
      "outputs": []
    },
    {
      "cell_type": "code",
      "source": [
        "def preprocess_summary(context, answer):\n",
        "  text = \"context: {} answer: {}\".format(context, answer)\n",
        "  encode = q_tokenizer.encode_plus(text, return_tensors='pt', max_length = 382, pad_to_max_length=False, truncation=True)\n",
        "  return encode[\"input_ids\"], encode[\"attention_mask\"]"
      ],
      "metadata": {
        "id": "XjZQKLdP6tHG"
      },
      "execution_count": 15,
      "outputs": []
    },
    {
      "cell_type": "code",
      "source": [
        "def gen_question(context, answer):\n",
        "  input_tokens_ids, attention_mask = preprocess_summary(context, answer)\n",
        "\n",
        "  question_encoded = q_model.generate(input_ids=input_tokens_ids, \n",
        "                                             attention_mask=attention_mask,\n",
        "                                             num_beams=5,\n",
        "                                             no_repeat_ngram_size=2, \n",
        "                                             max_length=72, \n",
        "                                             early_stopping=True)\n",
        "  # decode summarized token\n",
        "  output = q_tokenizer.decode(question_encoded[0], skip_special_tokens=True, clean_up_tokenization_spaces=True)\n",
        "  output = output.replace(\"question: \", \"\")\n",
        "  output = output.strip()\n",
        "  return output"
      ],
      "metadata": {
        "id": "vbrnFDvjRcT4"
      },
      "execution_count": 16,
      "outputs": []
    },
    {
      "cell_type": "code",
      "source": [
        "full_text = \"\"\"\n",
        "Manufacturing processes are the steps through which raw materials are transformed into a final product. The manufacturing process begins with the use of the materials and then modified through manufacturing processes to become the required part. The process involves use of machinery, tools, power and labour. During the process, it adds greater valve to the final product. Therefore, manufacturing is a value added process.\n",
        "Machinery Tools Power Labour\n",
        "Raw materials Product\n",
        "Raw materials: Raw materials are often natural resources such as crude oil, iron ore and wood. They are harvested from the earth. Processed materials are materials refined by humans.eg steel, petrol, paper, glass Iron ore: Iron ore is available on earth in the form of rocks rich in iron oxide. It also contains other impurities such as Sulphur. Iron is extracted from iron ore by heating them (above 1250 deg C) with coke (Coke is a refined form of coal) in a furnace called blast furnace. Oxides and other impurities are removed from the iron ore to leave the iron behind which is called ‘Pig iron’.\n",
        "Pig iron ingots Pig iron contains higher percentage of carbon (3.5 to 4.5%). Therefore, it is very hard and brittle and it cannot be used as an engineering material. To become steel, it must be melted again and reprocessed to reduce the carbon to the correct amount. Steel is iron and up to 1.5% carbon. Elements such as chromium, nickel, tungsten, vanadium can also be added to steel, to get different properties. When added, they are called alloy steels. After preparation of the correct material, the liquid steel is allowed to solidify in the form of a billet, slab or an ingot. These are again processed to make final products.eg. Sheets, tubes, rods This includes production of iron, copper, aluminum and other metals from their ores.\n",
        "The basic properties of materials\n",
        "1. Physical properties:\n",
        "These can be considered to include density, specific gravity and melting point.\n",
        "2. Electrical properties:\n",
        "Electrical properties are resistivity and conductivity.\n",
        "3. Thermal properties:\n",
        "These are displayed when there is heat input to a material and include expansion, thermal conductivity and specific heat.\n",
        "4. Chemical properties:\n",
        "These are, for example, corrosion\n",
        "5. Mechanical properties:\n",
        "The mechanical properties of materials defined the behavior of materials under the action of external forces called loads or stresses. There is a measure of strength and durability of a material in service. These properties are great importance in the design of machines and structures.\n",
        "The most important mechanical properties\n",
        "1. Strength\n",
        "The strength of material is its capacity to withstand failure under the action of external\n",
        "loads. The stronger the material the greater the load it can withstand before failure.\n",
        "Types of Stresses: -\n",
        "(i). Tensile Stress: the force acts to pull materials apart\n",
        "(ii). Compressive Stress: the force squeezes material\n",
        "(iii). Shear Stress: the force causes one part to slide on another part\n",
        "2. Elasticity\n",
        "The elasticity of a metal is its power of coming back to its original shape after deformation when the loads are removed.\n",
        "3. Plasticity\n",
        "The plasticity of a metal is the ability to change its shape without destruction under the application of loads, and to retain its shape, when the loads are withdrawn.\n",
        "4. Toughness\n",
        "This ability of a material to resist hammering or impact loads without fracturing. Toughness is a high desirable quality for structural and machine parts which have to withstand shocks and vibrations.\n",
        "5. Brittleness\n",
        "The brittleness of material is the property of braking without much permanent distortion. These materials break into pieces due to impact.\n",
        "6. Malleability\n",
        "The malleability of metal is its ability to change shape by external force (hammering) without breaking.\n",
        "7. Ductility\n",
        "The ductility of a metal is the property which enables a metal to be drawn into wires without breaking. Copper is a ductile material. The ductility of a material increases with the temperature.\n",
        "8. Hardness\n",
        "This is ability of a material to resist wear. (eg. knife, file). Hard materials can be used to cut soft materials.\n",
        "Classification of engineering materials\n",
        "Following chart gives a classification of engineering materials that are commonly used in a\n",
        "Workshop\n",
        "Plain carbon steel: Carbon steel is the most widely used kind of steel. The properties of carbon steel depend primarily on the amount of carbon it contains. There are three types of plain carbon steels. (a) Mild steel (up to 0.3% C) (b) Medium carbon steel (0.3 to 0.8%) (c) High carbon steel (0.8 to 1.5%) The following graph shows the variation of (i) strength (toughness), (ii) ductility and malleability, (iii) hardness & brittleness with increase in carbon percentage.\n",
        "Cast iron\n",
        "Cast iron is made by melting pig iron with cast iron scrap and steel scrap in cupola furnaces and poured into molds to make castings. Cast Iron is generally defined as an alloy of iron with 2.5 % to 3 5 % Carbon, and usually with small amount of Silicon and Manganese. Due to its high carbon percentage that exists in the form of graphite, it has self lubricating property.\n",
        "Cast iron is comparatively weak and brittle in tension and has a high hardness. It can take high compression loads. It has lubricating properties and easily cast. (casting is a manufacturing process)\n",
        "Cast iron is used to make automotive parts such as engine blocks, cylinder liners, cylinder heads, machine parts, industrial components, pump housings and motor housings. Applications of mild steel, medium carbon steel, high carbon steel and cast iron are given below.\n",
        "Alloy steels: Steel has Iron and Carbon. Alloy steel has one or more alloying elements other than iron and carbon such as chromium, vanadium, nickel, tungsten etc. The basic properties of steel given above in this chapter can be changed by adding various alloying elements. Applications of alloy steels:- (a) Stainless steel: - Good quality stainless steel has about 18 to 20% Chromium as the alloying element. Stainless steel does not readily corrode, rust or stain with water as ordinary steel does. It has the ability to resist oxidation.\n",
        "Stainless steel sheet Cutlery setWrist watch strap\n",
        "Medical equipment Kitchen items Tubes and sections\n",
        "(b) High speed steel (HSS):-\n",
        "High Speed Steel contains about 18% Tungsten as the alloying element. It performs a high hardness and a high wear resistance. Therefore, this material is used to make cutting tools (tools to cut other materials of less hardness).\n",
        "(c) Vanadium steel:-\n",
        "Vanadium has the ability to improve the strength and toughness of steel. Therefore, it is used to make tools which need high strength.\n",
        "Chromium – Vanadium steel spanner\n",
        "Non ferrous metals:-\n",
        "Non-ferrous metals do not contain iron (Fe) in appreciable amounts. They are more expensive than ferrous metals. They have exceptional engineering properties.\n",
        "Example of some non ferrous metals used in the industry: • Aluminum has low weight and resistance to corrosion. • Copper has high electrical and thermal conductivity and resistance to corrosion. Electrical wires (conductors) are made of copper • Lead is a good conductor of electricity. Lead and Tin are mixed 1 : 1 ratio to make solder. • Tin is applied on ferrous metals (inside cans) to prevent corrosion • Zinc has high ability to resist corrosion. Melted zinc is applied on ferrous metals to prevent corrosion. The process is called galvanizing.\n",
        "Non ferrous alloys:-\n",
        "(a) Aluminum that is used in the industry is not pure aluminum, but they are alloys. Alloying elements are copper, silicon, tin, zinc etc. Their applications are automobile bodies, aircrafts, cans, alloy wheels, tubes and sections and sheets.\n",
        "(b) Applications of Copper alloys:\n",
        "Brass and bronze are copper alloys. Brass (copper and zinc) and bronze (copper and tin).\n",
        "Brass and bronze are used to make water and gas taps, pipes, bushes, door hinges and\n",
        "door locks, household items, and statues.\n",
        "\n",
        "\"\"\""
      ],
      "metadata": {
        "id": "E4DtgAa_W8Kc"
      },
      "execution_count": 17,
      "outputs": []
    },
    {
      "cell_type": "code",
      "source": [
        "splitted_text = split_text(full_text)\n",
        "summary = []\n",
        "filtered_kw = []\n",
        "\n",
        "for i in range(len(splitted_text)):\n",
        "  summary.append(summarize(splitted_text[i]))\n",
        "  filtered_kw.append(filter_keywords(splitted_text[i], summary[i]))\n",
        "\n",
        "for i in range(len(filtered_kw)):\n",
        "  for x in filtered_kw[i]:\n",
        "    print(gen_question(splitted_text[i], x))\n",
        "    print(x)"
      ],
      "metadata": {
        "colab": {
          "base_uri": "https://localhost:8080/"
        },
        "id": "U8j7R21w1k-3",
        "outputId": "541892d1-160d-4745-ec2f-b159535f10cc"
      },
      "execution_count": 49,
      "outputs": [
        {
          "output_type": "stream",
          "name": "stdout",
          "text": [
            "What are the steps through which raw materials are transformed into a final product?\n",
            "processes\n",
            "What is transformed into a final product?\n",
            "raw materials\n",
            "What are the steps through which raw materials are transformed into a final product?\n",
            "manufacturing process\n",
            "Oil, iron ore, and wood are examples of what?\n",
            "raw materials\n",
            "What is iron extracted from?\n",
            "iron ore\n",
            "What is extracted from iron ore?\n",
            "iron\n",
            "What is left behind after iron ore is removed?\n",
            "pig iron\n",
            "What is iron and up to 1.5% carbon?\n",
            "steel\n",
            "What is the main element of steel?\n",
            "iron\n",
            "What is chromium, nickel, tungsten, and vanadium called when added to steel?\n",
            "alloy steels\n",
            "What can be considered to include density, specific gravity and melting point?\n",
            "physical properties\n",
            "Other than iron, copper and aluminum, what else is produced from their ores?\n",
            "metals\n",
            "What are displayed when there is heat input to a material?\n",
            "thermal properties\n",
            "Along with expansion and specific heat, what is an example of a thermal property?\n",
            "thermal conductivity\n",
            "What type of properties include corrosion?\n",
            "chemical properties\n",
            "What has a measure of strength and durability?\n",
            "material\n",
            "What property of a material in service is important in the design of machines and structures?\n",
            "durability\n",
            "What are the most important properties of a material?\n",
            "important mechanical properties\n",
            "What is one of the most important mechanical properties of a material?\n",
            "strength\n",
            "What is the power of a metal to come back to its original shape?\n",
            "elasticity\n",
            "What is a high desirable quality for structural and machine parts?\n",
            "toughness\n",
            "What is the ability of a metal to change its shape without destruction?\n",
            "plasticity\n",
            "What is the ability of a metal to change shape by external force?\n",
            "malleability\n",
            "What is the property that enables a metal to be drawn into wires without breaking?\n",
            "ductility\n",
            "What is the property of braking without much permanent distortion?\n",
            "brittleness\n",
            "What is malleable?\n",
            "metal\n",
            "What is the most widely used kind of steel?\n",
            "carbon steel\n",
            "What type of materials can be used to cut soft materials?\n",
            "hard materials\n",
            "What mainly depends on the amount of carbon it contains?\n",
            "carbon steel\n",
            "What type of iron is used to make castings?\n",
            "cast iron\n",
            "What is cast iron made by melting?\n",
            "pig iron\n",
            "Cast iron is used to make what?\n",
            "automotive parts\n",
            "What is used to make automotive parts?\n",
            "cast iron\n",
            "What contains about 18% Tungsten as the alloying element?\n",
            "high speed steel\n",
            "Vanadium has the ability to improve the strength and toughness of what?\n",
            "steel\n",
            "What type of metal is aluminum?\n",
            "non - ferrous metals\n",
            "What is copper resistant to?\n",
            "corrosion\n",
            "What is melted on ferrous metals to prevent corrosion?\n",
            "zinc\n",
            "What is melted zinc applied to?\n",
            "ferrous metals\n",
            "Why is zinc applied to ferrous metals?\n",
            "corrosion\n"
          ]
        }
      ]
    },
    {
      "cell_type": "code",
      "source": [
        ""
      ],
      "metadata": {
        "id": "hSirGz4kb6de"
      },
      "execution_count": null,
      "outputs": []
    }
  ]
}