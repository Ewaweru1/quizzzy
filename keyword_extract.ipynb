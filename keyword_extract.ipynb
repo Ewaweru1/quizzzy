{
  "nbformat": 4,
  "nbformat_minor": 0,
  "metadata": {
    "colab": {
      "name": "abstractive-text-summarization.ipynb",
      "provenance": [],
      "authorship_tag": "ABX9TyMul2ttuNu9vDGVzbnl0qZL",
      "include_colab_link": true
    },
    "kernelspec": {
      "name": "python3",
      "display_name": "Python 3"
    },
    "language_info": {
      "name": "python"
    }
  },
  "cells": [
    {
      "cell_type": "markdown",
      "metadata": {
        "id": "view-in-github",
        "colab_type": "text"
      },
      "source": [
        "<a href=\"https://colab.research.google.com/github/Karthick47v2/mcq-generator/blob/base-dev/keyword_extract.ipynb\" target=\"_parent\"><img src=\"https://colab.research.google.com/assets/colab-badge.svg\" alt=\"Open In Colab\"/></a>"
      ]
    },
    {
      "cell_type": "code",
      "source": [
        "!pip3 install keybert\n",
        "!pip3 install keyphrase-vectorizers"
      ],
      "metadata": {
        "id": "e108t6HBXWxE"
      },
      "execution_count": null,
      "outputs": []
    },
    {
      "cell_type": "code",
      "source": [
        "from keyphrase_vectorizers import KeyphraseCountVectorizer\n",
        "from keybert import KeyBERT"
      ],
      "metadata": {
        "id": "-vZ_gitSlVZF"
      },
      "execution_count": 3,
      "outputs": []
    },
    {
      "cell_type": "code",
      "source": [
        "keybert= KeyBERT()\n",
        "vectorizer = KeyphraseCountVectorizer()"
      ],
      "metadata": {
        "id": "cLsKRQItYTe9"
      },
      "execution_count": 9,
      "outputs": []
    },
    {
      "cell_type": "code",
      "source": [
        "def extract_keywords(text):\n",
        "  kwx = keybert.extract_keywords(\n",
        "      text, vectorizer=vectorizer)\n",
        "\n",
        "  kw_ls = []\n",
        "  for i in kwx:\n",
        "      # 0 -> keyword, 1-> confidence / probability\n",
        "      kw_ls.append(i[0])\n",
        "  return kw_ls"
      ],
      "metadata": {
        "id": "4UJu2CGRpiBO"
      },
      "execution_count": 5,
      "outputs": []
    },
    {
      "cell_type": "code",
      "source": [
        "text = '''\n",
        "\n",
        "The US has \"passed the peak\" on new coronavirus cases, President Donald Trump said and predicted that some states would reopen this month. The US has over 637,000 confirmed Covid-19 cases and over 30,826 deaths, the highest for any country in the world. At the daily White House coronavirus briefing on Wednesday, Trump said new guidelines to reopen the country would be announced on Thursday after he speaks to governors. \"We'll be the comeback kids, all of us,\" he said. \"We want to get our country back.\" The Trump administration has previously fixed May 1 as a possible date to reopen the world's largest economy, but the president said some states may be able to return to normalcy earlier than that.\n",
        "\n",
        "'''\n",
        "print(extract_keywords(text))"
      ],
      "metadata": {
        "id": "OhtSNJoYy9r2"
      },
      "execution_count": null,
      "outputs": []
    }
  ]
}